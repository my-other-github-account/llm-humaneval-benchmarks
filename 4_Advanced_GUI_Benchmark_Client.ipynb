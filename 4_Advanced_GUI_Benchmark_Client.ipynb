{
 "cells": [
  {
   "cell_type": "code",
   "execution_count": 1,
   "id": "7146c2a6-89e7-49b6-8aca-dd7592361fda",
   "metadata": {
    "tags": []
   },
   "outputs": [],
   "source": [
    "from benchmark_manager import start_server, run_benchmark_workflow\n",
    "from benchmark_utils import run_benchmark"
   ]
  },
  {
   "cell_type": "code",
   "execution_count": 3,
   "id": "7960dc96-8bca-4553-8094-e2892f6d93d3",
   "metadata": {},
   "outputs": [],
   "source": [
    "PORT = 6000 # Same port as GUI API is running on\n",
    "\n",
    "VICUNA = {\n",
    "    'user_tag':\"USER:\", \n",
    "    'assistant_tag':\"ASSISTANT:\", \n",
    "    'system_prefix':\"A chat between a curious user and an artificial intelligence assistant. The assistant gives helpful, detailed, and polite answers to the user's questions.\", \n",
    "    'experiment_tag':\"vicuna\"\n",
    "}\n",
    "\n",
    "ALPACA = {\n",
    "    'user_tag':\"### Instruction:\", \n",
    "    'assistant_tag':\"### Response:\", \n",
    "    'system_prefix':\"\", \n",
    "    'experiment_tag':\"alpaca\"\n",
    "}\n",
    "\n",
    "ALPACA_PREFIX = {\n",
    "    'user_tag':\"### Instruction:\", \n",
    "    'assistant_tag':\"### Response:\", \n",
    "    'system_prefix':\"Below is an instruction that describes a task.\\n Write a response that appropriately completes the request.\\n\", \n",
    "    'experiment_tag':\"alpaca_prefix\"\n",
    "}"
   ]
  },
  {
   "cell_type": "code",
   "execution_count": null,
   "id": "192fb97e-b4e4-4ed8-8fc6-24ac22e4a768",
   "metadata": {
    "tags": []
   },
   "outputs": [
    {
     "name": "stdout",
     "output_type": "stream",
     "text": [
      "Results will be written to: results/Salesforce_instructcodet5p-16b_long_alpaca.jsonl\n",
      "Processing Task 0 of 164\n",
      "def has_close_elements(\"numbers: List[float], threshold: float) -> bool:\n",
      "    \"\"\"Check if in given list of numbers, are any two numbers closer than given threshold.\n",
      "    >>> has_close_elements([1.0, 2.0, 3.0], 0.5)\n",
      "    False\n",
      "    >>> has_close_elements([1.0, 2.8, 3.0], 0.5)\n",
      "    True\n",
      "    >>> has_close_elements([1.0, 2.8, 3.0], 0.3)\n",
      "    False\n",
      "    \"\"\"\n",
      "    for i in range(len(numbers)):\n",
      "        for j in range(i + 1, len(numbers)):\n",
      "            if abs(numbers[i] - numbers[j]) < threshold:\n",
      "                return True\n",
      "    return False\n",
      "\n",
      "\n",
      "Processing Task 1 of 164\n",
      "def separate_paren_groups(\"paren_string: \")\n",
      "Processing Task 2 of 164\n",
      "def truncate_number(\"number\": float(number),\n",
      "    }\n",
      "    return float(number)\n",
      "Processing Task 3 of 164\n"
     ]
    }
   ],
   "source": [
    "run_benchmark(\"Salesforce_instructcodet5p-16b\", port=PORT, prompt_type=\"long\", **ALPACA)"
   ]
  },
  {
   "cell_type": "code",
   "execution_count": null,
   "id": "7a347ae4-b008-479f-a502-eb2f262776ff",
   "metadata": {},
   "outputs": [],
   "source": []
  }
 ],
 "metadata": {
  "kernelspec": {
   "display_name": "conda_pytorch_p39",
   "language": "python",
   "name": "conda_pytorch_p39"
  },
  "language_info": {
   "codemirror_mode": {
    "name": "ipython",
    "version": 3
   },
   "file_extension": ".py",
   "mimetype": "text/x-python",
   "name": "python",
   "nbconvert_exporter": "python",
   "pygments_lexer": "ipython3",
   "version": "3.9.15"
  }
 },
 "nbformat": 4,
 "nbformat_minor": 5
}
