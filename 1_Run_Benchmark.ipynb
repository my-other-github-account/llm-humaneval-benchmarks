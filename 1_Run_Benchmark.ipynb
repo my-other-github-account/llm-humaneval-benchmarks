{
 "cells": [
  {
   "cell_type": "code",
   "execution_count": null,
   "id": "7146c2a6-89e7-49b6-8aca-dd7592361fda",
   "metadata": {
    "tags": []
   },
   "outputs": [],
   "source": [
    "from benchmark_manager import run_benchmark_workflow"
   ]
  },
  {
   "cell_type": "code",
   "execution_count": null,
   "id": "7dfed66f-9100-478b-a67f-493daca1fe68",
   "metadata": {
    "tags": []
   },
   "outputs": [],
   "source": [
    "# !cd text-generation-webui && python server.py --model-menu"
   ]
  },
  {
   "cell_type": "code",
   "execution_count": null,
   "id": "77d1e871-71bb-419e-8293-dd90d50f7d5b",
   "metadata": {
    "scrolled": true,
    "tags": []
   },
   "outputs": [],
   "source": [
    "run_benchmark_workflow(\"Aeala_VicUnlocked-alpaca-65b-4bit\", 6666, group_size=128,\n",
    "                           prompt_type=\"long\", user_tag=\"### Instruction:\", \n",
    "                           assistant_tag=\"### Response:\", system_prefix=\"\", experiment_tag=\"alpaca\")"
   ]
  },
  {
   "cell_type": "code",
   "execution_count": null,
   "id": "d7d9fb60-2463-4016-bc49-3ae882d4a378",
   "metadata": {
    "tags": []
   },
   "outputs": [],
   "source": [
    "run_benchmark_workflow(\"Aeala_VicUnlocked-alpaca-65b-4bit\", 6666, group_size=128,\n",
    "                           prompt_type=\"long\", user_tag=\"USER:\", \n",
    "                           assistant_tag=\"ASSISTANT:\", system_prefix=\"A chat between a curious user and an artificial intelligence assistant. The assistant gives helpful, detailed, and polite answers to the user's questions.\", experiment_tag=\"vicuna\")"
   ]
  },
  {
   "cell_type": "code",
   "execution_count": null,
   "id": "192fb97e-b4e4-4ed8-8fc6-24ac22e4a768",
   "metadata": {},
   "outputs": [],
   "source": []
  }
 ],
 "metadata": {
  "kernelspec": {
   "display_name": "conda_pytorch_p39",
   "language": "python",
   "name": "conda_pytorch_p39"
  },
  "language_info": {
   "codemirror_mode": {
    "name": "ipython",
    "version": 3
   },
   "file_extension": ".py",
   "mimetype": "text/x-python",
   "name": "python",
   "nbconvert_exporter": "python",
   "pygments_lexer": "ipython3",
   "version": "3.9.15"
  }
 },
 "nbformat": 4,
 "nbformat_minor": 5
}
