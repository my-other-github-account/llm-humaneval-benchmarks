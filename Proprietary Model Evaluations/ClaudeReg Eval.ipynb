{
 "cells": [
  {
   "cell_type": "code",
   "execution_count": 1,
   "id": "9cd96fcb-08b3-4845-9083-306e825f6b98",
   "metadata": {
    "tags": []
   },
   "outputs": [],
   "source": [
    "# !pip install poe-api"
   ]
  },
  {
   "cell_type": "code",
   "execution_count": 2,
   "id": "b8c9a7b1-76e5-4dba-be3c-65a7f0776fd5",
   "metadata": {
    "tags": []
   },
   "outputs": [],
   "source": [
    "import poe\n",
    "client = poe.Client(\"<KEY>\")"
   ]
  },
  {
   "cell_type": "code",
   "execution_count": null,
   "id": "80e1e50a-866a-444f-a8c4-95214ce292ab",
   "metadata": {
    "scrolled": true,
    "tags": []
   },
   "outputs": [],
   "source": [
    "import os, time\n",
    "from benchmark_utils import run_benchmark, run, extract_code\n",
    "\n",
    "model_name = \"Claude\"\n",
    "\n",
    "def my_completion_cplus(code, **kwargs):\n",
    "    prompt = \"Please complete the following code:\\n```python\\n%s```\" % code\n",
    "    while True:\n",
    "        try:\n",
    "            for chunk in client.send_message(\"a2\", prompt, with_chat_break = True):\n",
    "                pass\n",
    "            answer = chunk[\"text\"]\n",
    "            break\n",
    "        except:\n",
    "            print(\"trying again in 30s!\")\n",
    "            time.sleep(30)\n",
    "            try:\n",
    "                client = poe.Client(\"<KEY>\")\n",
    "            except:\n",
    "                pass\n",
    "            print(\"trying now!\")\n",
    "    # print(\"***\", answer, \"***\")\n",
    "    results = extract_code(answer, \"\")\n",
    "    print(results)\n",
    "    return results\n",
    "\n",
    "run_benchmark(model_name, custom_completion=my_completion_cplus, prompt_type = \"custom\")"
   ]
  },
  {
   "cell_type": "code",
   "execution_count": null,
   "id": "f4db244a-2a26-49fd-9377-3776889366dd",
   "metadata": {},
   "outputs": [],
   "source": []
  }
 ],
 "metadata": {
  "kernelspec": {
   "display_name": "conda_pytorch_p310",
   "language": "python",
   "name": "conda_pytorch_p310"
  },
  "language_info": {
   "codemirror_mode": {
    "name": "ipython",
    "version": 3
   },
   "file_extension": ".py",
   "mimetype": "text/x-python",
   "name": "python",
   "nbconvert_exporter": "python",
   "pygments_lexer": "ipython3",
   "version": "3.10.10"
  }
 },
 "nbformat": 4,
 "nbformat_minor": 5
}
