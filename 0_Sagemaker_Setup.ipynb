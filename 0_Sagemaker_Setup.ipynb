{
 "cells": [
  {
   "cell_type": "code",
   "execution_count": null,
   "id": "f06f277f-971b-4d35-a06f-49ec81df18aa",
   "metadata": {
    "tags": []
   },
   "outputs": [],
   "source": [
    "# !git clone https://github.com/oobabooga/text-generation-webui"
   ]
  },
  {
   "cell_type": "code",
   "execution_count": null,
   "id": "1878dabf-e204-4ebb-9692-4126dab0eed8",
   "metadata": {},
   "outputs": [],
   "source": [
    "# !git clone https://github.com/PanQiWei/AutoGPTQ.git"
   ]
  },
  {
   "cell_type": "code",
   "execution_count": null,
   "id": "0bf898e2-8fe4-4a30-a98d-1ce868e991f9",
   "metadata": {
    "tags": []
   },
   "outputs": [],
   "source": [
    "%%bash\n",
    "\n",
    "sudo mv /usr/bin/g++ /usr/bin/g++_old\n",
    "sudo mv /usr/bin/gcc /usr/bin/gcc_old\n",
    "sudo ln -s /usr/bin/gcc10-cc /usr/bin/gcc\n",
    "sudo ln -s /usr/bin/gcc10-c++ /usr/bin/g++"
   ]
  },
  {
   "cell_type": "code",
   "execution_count": null,
   "id": "6d935db7-8656-4117-b9fb-2073ab236358",
   "metadata": {
    "tags": []
   },
   "outputs": [],
   "source": [
    "!sudo yum -y remove gcc-c++"
   ]
  },
  {
   "cell_type": "code",
   "execution_count": null,
   "id": "15294776-1d0d-4150-a355-a8f6404b3dee",
   "metadata": {
    "tags": []
   },
   "outputs": [],
   "source": [
    "!sudo yum -y install gcc-c++"
   ]
  },
  {
   "cell_type": "code",
   "execution_count": null,
   "id": "1907ae21-09a7-460f-ae17-91b258ecd14e",
   "metadata": {
    "tags": []
   },
   "outputs": [],
   "source": [
    "%%writefile text-generation-webui/requirements.txt\n",
    "colorama\n",
    "datasets\n",
    "einops\n",
    "flexgen==0.1.7\n",
    "gradio_client==0.2.5\n",
    "gradio==3.31.0\n",
    "markdown\n",
    "numpy\n",
    "pandas\n",
    "Pillow>=9.5.0\n",
    "pyyaml\n",
    "requests\n",
    "safetensors==0.3.1\n",
    "sentencepiece\n",
    "tqdm\n",
    "scipy\n",
    "git+https://github.com/huggingface/peft@3714aa2fff158fdfa637b2b65952580801d890b2\n",
    "git+https://github.com/huggingface/transformers@e45e756d22206ca8fa9fb057c8c3d8fa79bf81c6\n",
    "git+https://github.com/huggingface/accelerate@0226f750257b3bf2cadc4f189f9eef0c764a0467"
   ]
  },
  {
   "cell_type": "code",
   "execution_count": null,
   "id": "d17702d0-b1a3-422d-9974-10c33d70fec7",
   "metadata": {
    "scrolled": true,
    "tags": []
   },
   "outputs": [],
   "source": [
    "!cd text-generation-webui && pip install -r requirements.txt"
   ]
  },
  {
   "cell_type": "code",
   "execution_count": null,
   "id": "c43a3975-07e5-4183-872d-21630ec9d88d",
   "metadata": {
    "tags": []
   },
   "outputs": [],
   "source": [
    "%%writefile GPTQ-for-LLaMa/requirements.txt\n",
    "safetensors==0.3.1\n",
    "datasets==2.10.1\n",
    "sentencepiece\n",
    "git+https://github.com/huggingface/transformers\n",
    "accelerate==0.19.0"
   ]
  },
  {
   "cell_type": "code",
   "execution_count": null,
   "id": "df3ddb38-d864-4b63-ab07-cf9baade08cd",
   "metadata": {
    "tags": []
   },
   "outputs": [],
   "source": [
    "!pip uninstall -y llama-cpp-python"
   ]
  },
  {
   "cell_type": "code",
   "execution_count": null,
   "id": "f5bb1d0b-9e6f-41ad-b653-05e58a1ebfb9",
   "metadata": {
    "scrolled": true,
    "tags": []
   },
   "outputs": [],
   "source": [
    "!CMAKE_ARGS=\"-DLLAMA_CUBLAS=on\" FORCE_CMAKE=1 pip install -v llama-cpp-python --no-cache-dir"
   ]
  },
  {
   "cell_type": "code",
   "execution_count": null,
   "id": "56447029-7497-402b-8aad-c729537179e8",
   "metadata": {},
   "outputs": [],
   "source": [
    "!cd AutoGPTQ && pip install ."
   ]
  },
  {
   "cell_type": "code",
   "execution_count": null,
   "id": "d7b2d613-f243-44eb-b0e1-a186f61507ed",
   "metadata": {
    "scrolled": true,
    "tags": []
   },
   "outputs": [],
   "source": [
    "!rm -rf GPTQ-for-LLaMa && git clone https://github.com/qwopqwop200/GPTQ-for-LLaMa \n",
    "!cd GPTQ-for-LLaMa && git checkout cuda\n",
    "!cd GPTQ-for-LLaMa && pip install -r requirements.txt"
   ]
  },
  {
   "cell_type": "code",
   "execution_count": null,
   "id": "c8ea6e35-61f9-4557-b0a9-a1bc24287414",
   "metadata": {
    "scrolled": true,
    "tags": []
   },
   "outputs": [],
   "source": [
    "!rm -rf GPTQ-for-LLaMa && git clone https://github.com/qwopqwop200/GPTQ-for-LLaMa \n",
    "!cd GPTQ-for-LLaMa && git checkout cuda\n",
    "!cd GPTQ-for-LLaMa && python setup_cuda.py install"
   ]
  },
  {
   "cell_type": "code",
   "execution_count": null,
   "id": "3f125711-b7c7-4c4a-9546-1b1ea395ced3",
   "metadata": {
    "tags": []
   },
   "outputs": [],
   "source": [
    "!pip freeze | grep torch"
   ]
  },
  {
   "cell_type": "code",
   "execution_count": null,
   "id": "961b8d23-c59f-40f0-9523-fed73b46334a",
   "metadata": {
    "tags": []
   },
   "outputs": [],
   "source": [
    "!pip install --upgrade evalplus torch>=2.0.0"
   ]
  },
  {
   "cell_type": "code",
   "execution_count": null,
   "id": "3ed48bc9-6559-40c1-a3f9-ceed0bd13c67",
   "metadata": {
    "tags": []
   },
   "outputs": [],
   "source": [
    "!cp -r GPTQ-for-LLaMa/* text-generation-webui/"
   ]
  },
  {
   "cell_type": "code",
   "execution_count": null,
   "id": "fb1157d4-5420-4533-be98-5e0e07a7dfa9",
   "metadata": {
    "scrolled": true,
    "tags": []
   },
   "outputs": [],
   "source": [
    "!python -m torch.utils.collect_env"
   ]
  },
  {
   "cell_type": "code",
   "execution_count": null,
   "id": "0c8f7ec9-8c1c-4dac-be52-f1baaa072bf5",
   "metadata": {
    "scrolled": true,
    "tags": []
   },
   "outputs": [],
   "source": [
    "!cd text-generation-webui && python server.py --share --api --trust-remote-code"
   ]
  },
  {
   "cell_type": "code",
   "execution_count": null,
   "id": "72c47abb-10b1-43a5-b11e-691b0e114ad5",
   "metadata": {},
   "outputs": [],
   "source": []
  }
 ],
 "metadata": {
  "kernelspec": {
   "display_name": "conda_pytorch_p39",
   "language": "python",
   "name": "conda_pytorch_p39"
  },
  "language_info": {
   "codemirror_mode": {
    "name": "ipython",
    "version": 3
   },
   "file_extension": ".py",
   "mimetype": "text/x-python",
   "name": "python",
   "nbconvert_exporter": "python",
   "pygments_lexer": "ipython3",
   "version": "3.9.15"
  }
 },
 "nbformat": 4,
 "nbformat_minor": 5
}
