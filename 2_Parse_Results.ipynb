{
 "cells": [
  {
   "cell_type": "code",
   "execution_count": 1,
   "id": "61045f01-0081-4c3d-be7b-73ca0d1a9397",
   "metadata": {
    "tags": []
   },
   "outputs": [
    {
     "name": "stdout",
     "output_type": "stream",
     "text": [
      "/home/ec2-user/SageMaker/results\n"
     ]
    }
   ],
   "source": [
    "%cd results"
   ]
  },
  {
   "cell_type": "code",
   "execution_count": 2,
   "id": "f002983b-0c36-4bcd-853f-6aeff8a2c4df",
   "metadata": {
    "tags": []
   },
   "outputs": [],
   "source": [
    "import os\n",
    "import pandas as pd\n",
    "import subprocess\n",
    "import re\n",
    "import glob\n",
    "\n",
    "def get_single_result(file):\n",
    "    file_base = file.split(\".jsonl\")[0]\n",
    "    # print(file_base)\n",
    "    try:\n",
    "        os.remove(file_base+\"_eval_results.json\")\n",
    "    except:\n",
    "        pass\n",
    "    # run evalplus.evaluate\n",
    "    result = subprocess.run([\"sudo\", \"/home/ec2-user/anaconda3/envs/pytorch_p39/bin/evalplus.evaluate\",\n",
    "                    \"--dataset\", \"humaneval\", \"--samples\", file, \"--i-just-wanna-run\"], \n",
    "                            text=True, capture_output=True, check=False)\n",
    "\n",
    "    # print(result.stdout)\n",
    "    # extract results from stdout\n",
    "    regex = re.compile(r\"'pass@1': ([0-9.]+)\")\n",
    "    matches = regex.findall(result.stdout)\n",
    "    \n",
    "    base = float(matches[0]) if matches else None\n",
    "    base_extra = float(matches[1]) if matches else None\n",
    "\n",
    "    to_add = {'file': [file], 'base': [base*100], 'base_extra': [base_extra*100]}\n",
    "    print(to_add)\n",
    "    new_row = pd.DataFrame(to_add)\n",
    "    return new_row\n",
    "        \n",
    "def get_results_pd():\n",
    "    print(\"starting\")\n",
    "    # list of jsonl files\n",
    "    jsonl_files = sorted([file for file in os.listdir() if file.endswith('.jsonl')], key=str.lower)\n",
    "\n",
    "    # results dataframe\n",
    "    results_df = pd.DataFrame(columns=['file', 'base', 'base_extra'])\n",
    "\n",
    "    # for each file\n",
    "    for file in jsonl_files:\n",
    "        to_add = get_single_result(file)\n",
    "\n",
    "        results_df = pd.concat([results_df, to_add], ignore_index=True)\n",
    "    return results_df\n",
    "\n",
    "def get_recent_results(x):\n",
    "    jsonl_files = [file for file in os.listdir() if file.endswith('.jsonl')]\n",
    "    jsonl_files.sort(key=lambda file: os.path.getmtime(file), reverse=True)\n",
    "    return jsonl_files[:x]"
   ]
  },
  {
   "cell_type": "code",
   "execution_count": 3,
   "id": "315d8627-231b-4e4f-9828-c4cdd58312ac",
   "metadata": {
    "tags": []
   },
   "outputs": [
    {
     "name": "stdout",
     "output_type": "stream",
     "text": [
      "starting\n",
      "{'file': ['Aeala_VicUnlocked-alpaca-65b-4bit_alpaca_long.jsonl'], 'base': [1.8292682926829267], 'base_extra': [1.8292682926829267]}\n",
      "{'file': ['TheBloke_guanaco-33B-GPTQ_alpaca_short.jsonl'], 'base': [0.6097560975609756], 'base_extra': [0.6097560975609756]}\n",
      "{'file': ['TheBloke_vicuna-7B-1.1-GPTQ-4bit-128g_vicuna_long.jsonl'], 'base': [1.8292682926829267], 'base_extra': [1.8292682926829267]}\n"
     ]
    }
   ],
   "source": [
    "df = get_results_pd()"
   ]
  },
  {
   "cell_type": "code",
   "execution_count": 4,
   "id": "60640c15-4711-44a3-b471-ddf3ce13a76c",
   "metadata": {
    "tags": []
   },
   "outputs": [],
   "source": [
    "df = df.rename(columns={'base': 'HumanEval', 'base_extra': 'Eval+'})"
   ]
  },
  {
   "cell_type": "code",
   "execution_count": 5,
   "id": "066eb301-bb51-4f5e-9b0f-2d6fd3d76638",
   "metadata": {
    "tags": []
   },
   "outputs": [],
   "source": [
    "df.to_csv('results.csv', index=False)"
   ]
  },
  {
   "cell_type": "code",
   "execution_count": 6,
   "id": "6344f815-82c2-474f-be4f-9e324fe21337",
   "metadata": {
    "tags": []
   },
   "outputs": [
    {
     "data": {
      "text/html": [
       "<div>\n",
       "<style scoped>\n",
       "    .dataframe tbody tr th:only-of-type {\n",
       "        vertical-align: middle;\n",
       "    }\n",
       "\n",
       "    .dataframe tbody tr th {\n",
       "        vertical-align: top;\n",
       "    }\n",
       "\n",
       "    .dataframe thead th {\n",
       "        text-align: right;\n",
       "    }\n",
       "</style>\n",
       "<table border=\"1\" class=\"dataframe\">\n",
       "  <thead>\n",
       "    <tr style=\"text-align: right;\">\n",
       "      <th></th>\n",
       "      <th>file</th>\n",
       "      <th>HumanEval</th>\n",
       "      <th>Eval+</th>\n",
       "    </tr>\n",
       "  </thead>\n",
       "  <tbody>\n",
       "    <tr>\n",
       "      <th>1</th>\n",
       "      <td>TheBloke_guanaco-33B-GPTQ_alpaca_short.jsonl</td>\n",
       "      <td>0.609756</td>\n",
       "      <td>0.609756</td>\n",
       "    </tr>\n",
       "    <tr>\n",
       "      <th>0</th>\n",
       "      <td>Aeala_VicUnlocked-alpaca-65b-4bit_alpaca_long....</td>\n",
       "      <td>1.829268</td>\n",
       "      <td>1.829268</td>\n",
       "    </tr>\n",
       "    <tr>\n",
       "      <th>2</th>\n",
       "      <td>TheBloke_vicuna-7B-1.1-GPTQ-4bit-128g_vicuna_l...</td>\n",
       "      <td>1.829268</td>\n",
       "      <td>1.829268</td>\n",
       "    </tr>\n",
       "  </tbody>\n",
       "</table>\n",
       "</div>"
      ],
      "text/plain": [
       "                                                file  HumanEval     Eval+\n",
       "1       TheBloke_guanaco-33B-GPTQ_alpaca_short.jsonl   0.609756  0.609756\n",
       "0  Aeala_VicUnlocked-alpaca-65b-4bit_alpaca_long....   1.829268  1.829268\n",
       "2  TheBloke_vicuna-7B-1.1-GPTQ-4bit-128g_vicuna_l...   1.829268  1.829268"
      ]
     },
     "execution_count": 6,
     "metadata": {},
     "output_type": "execute_result"
    }
   ],
   "source": [
    "df = pd.read_csv('results.csv')\n",
    "\n",
    "df_sorted = df.sort_values(['Eval+', 'HumanEval'])\n",
    "df_sorted.head()"
   ]
  },
  {
   "cell_type": "code",
   "execution_count": 7,
   "id": "5f2a73f5-0256-4a82-8a42-60428ccf4d5b",
   "metadata": {
    "tags": []
   },
   "outputs": [
    {
     "name": "stdout",
     "output_type": "stream",
     "text": [
      "TheBloke_vicuna-7B-1.1-GPTQ-4bit-128g_vicuna_long.jsonl\n",
      "{'file': ['TheBloke_vicuna-7B-1.1-GPTQ-4bit-128g_vicuna_long.jsonl'], 'base': [1.8292682926829267], 'base_extra': [1.8292682926829267]}\n",
      "Aeala_VicUnlocked-alpaca-65b-4bit_alpaca_long.jsonl\n",
      "{'file': ['Aeala_VicUnlocked-alpaca-65b-4bit_alpaca_long.jsonl'], 'base': [1.8292682926829267], 'base_extra': [1.8292682926829267]}\n",
      "TheBloke_guanaco-33B-GPTQ_alpaca_short.jsonl\n",
      "{'file': ['TheBloke_guanaco-33B-GPTQ_alpaca_short.jsonl'], 'base': [0.6097560975609756], 'base_extra': [0.6097560975609756]}\n"
     ]
    },
    {
     "data": {
      "text/html": [
       "<div>\n",
       "<style scoped>\n",
       "    .dataframe tbody tr th:only-of-type {\n",
       "        vertical-align: middle;\n",
       "    }\n",
       "\n",
       "    .dataframe tbody tr th {\n",
       "        vertical-align: top;\n",
       "    }\n",
       "\n",
       "    .dataframe thead th {\n",
       "        text-align: right;\n",
       "    }\n",
       "</style>\n",
       "<table border=\"1\" class=\"dataframe\">\n",
       "  <thead>\n",
       "    <tr style=\"text-align: right;\">\n",
       "      <th></th>\n",
       "      <th>file</th>\n",
       "      <th>base</th>\n",
       "      <th>base_extra</th>\n",
       "    </tr>\n",
       "  </thead>\n",
       "  <tbody>\n",
       "    <tr>\n",
       "      <th>0</th>\n",
       "      <td>TheBloke_vicuna-7B-1.1-GPTQ-4bit-128g_vicuna_l...</td>\n",
       "      <td>1.829268</td>\n",
       "      <td>1.829268</td>\n",
       "    </tr>\n",
       "    <tr>\n",
       "      <th>1</th>\n",
       "      <td>Aeala_VicUnlocked-alpaca-65b-4bit_alpaca_long....</td>\n",
       "      <td>1.829268</td>\n",
       "      <td>1.829268</td>\n",
       "    </tr>\n",
       "    <tr>\n",
       "      <th>2</th>\n",
       "      <td>TheBloke_guanaco-33B-GPTQ_alpaca_short.jsonl</td>\n",
       "      <td>0.609756</td>\n",
       "      <td>0.609756</td>\n",
       "    </tr>\n",
       "  </tbody>\n",
       "</table>\n",
       "</div>"
      ],
      "text/plain": [
       "                                                file      base  base_extra\n",
       "0  TheBloke_vicuna-7B-1.1-GPTQ-4bit-128g_vicuna_l...  1.829268    1.829268\n",
       "1  Aeala_VicUnlocked-alpaca-65b-4bit_alpaca_long....  1.829268    1.829268\n",
       "2       TheBloke_guanaco-33B-GPTQ_alpaca_short.jsonl  0.609756    0.609756"
      ]
     },
     "execution_count": 7,
     "metadata": {},
     "output_type": "execute_result"
    }
   ],
   "source": [
    "recent = get_recent_results(5)\n",
    "results_df = pd.DataFrame(columns=['file', 'base', 'base_extra'])\n",
    "\n",
    "for file in recent:\n",
    "    print(file)\n",
    "    to_add = get_single_result(file)\n",
    "    results_df = pd.concat([results_df, to_add], ignore_index=True)\n",
    "\n",
    "results_df.head()"
   ]
  },
  {
   "cell_type": "code",
   "execution_count": 8,
   "id": "8f718c43-f1a2-49aa-bdbf-319f3a68554e",
   "metadata": {
    "tags": []
   },
   "outputs": [
    {
     "data": {
      "image/png": "[encoded data removed]",
      "text/plain": [
       "<Figure size 1400x700 with 1 Axes>"
      ]
     },
     "metadata": {},
     "output_type": "display_data"
    }
   ],
   "source": [
    "import matplotlib.pyplot as plt\n",
    "import numpy as np\n",
    "# Plot\n",
    "fig, ax = plt.subplots(figsize=(14, 7))\n",
    "df_sorted.plot(x='file', y=['HumanEval', 'Eval+'], kind='barh', ax=ax)\n",
    "\n",
    "# Customize the plot\n",
    "ax.set_xlabel('% Tests Passed')\n",
    "ax.set_ylabel('File')\n",
    "ax.set_title('HumanEval+ Programming Performance (163 Problems)')\n",
    "# Reverse the order of legend labels\n",
    "handles, labels = ax.get_legend_handles_labels()\n",
    "ax.legend(handles[::-1], labels[::-1])\n",
    "\n",
    "# Add labels at the ends of the bars\n",
    "for p in ax.patches:\n",
    "    width = p.get_width()\n",
    "    plt.text(width + 0.1,  # add a small offset to avoid overlapping with the bar\n",
    "             p.get_y() + p.get_height() / 2,\n",
    "             '{:1.1f}%'.format(width),\n",
    "             ha='left',\n",
    "             va='center')\n",
    "\n",
    "plt.tight_layout()  # Adjust subplot parameters to give specified padding\n",
    "plt.show()\n"
   ]
  },
  {
   "cell_type": "code",
   "execution_count": 9,
   "id": "be23c089-d89f-423c-9640-5e2ddea81f16",
   "metadata": {
    "tags": []
   },
   "outputs": [],
   "source": [
    "filtered_df = df[df['file'].str.contains('guanaco')]\n"
   ]
  },
  {
   "cell_type": "code",
   "execution_count": null,
   "id": "1f32459d-bc49-4617-ac49-fbbf3b0f3c3d",
   "metadata": {},
   "outputs": [],
   "source": []
  }
 ],
 "metadata": {
  "kernelspec": {
   "display_name": "conda_pytorch_p39",
   "language": "python",
   "name": "conda_pytorch_p39"
  },
  "language_info": {
   "codemirror_mode": {
    "name": "ipython",
    "version": 3
   },
   "file_extension": ".py",
   "mimetype": "text/x-python",
   "name": "python",
   "nbconvert_exporter": "python",
   "pygments_lexer": "ipython3",
   "version": "3.9.15"
  }
 },
 "nbformat": 4,
 "nbformat_minor": 5
}
